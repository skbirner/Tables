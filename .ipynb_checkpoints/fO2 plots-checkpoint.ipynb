{
 "cells": [
  {
   "cell_type": "code",
   "execution_count": 2,
   "metadata": {
    "collapsed": true
   },
   "outputs": [],
   "source": [
    "import matplotlib.pyplot as plt\n",
    "import numpy as np\n",
    "import pandas as pd"
   ]
  },
  {
   "cell_type": "code",
   "execution_count": 80,
   "metadata": {
    "collapsed": false
   },
   "outputs": [],
   "source": [
    "# Load file \n",
    "xl = pd.ExcelFile('SWIR_input.xlsx')\n",
    "\n",
    "# Load sheet as numpy array\n",
    "basalt_data = xl.parse('Sheet1').as_matrix()\n",
    "global_data = xl.parse('Sheet2').as_matrix()\n",
    "perid_data = xl.parse('Sheet3').as_matrix()\n",
    "BW_data = xl.parse('Sheet4').as_matrix()\n",
    "global_prim = xl.parse('Sheet6').as_matrix()\n",
    "\n",
    "# Variables from input file\n",
    "magmatic_fO2 = basalt_data[:,0] # SWIR Basalt Magmatic fO2, T=1200C P=1atm\n",
    "frac_xtal_fO2 = basalt_data[:,1] # SWIR Basalt fO2, Corrected to MgO=8.0 wt%, T=1200C P=1atm\n",
    "basalt_Fe3 = basalt_data[:,2] # SWIR Basalt Fe3+/tFe\n",
    "basalt_MgO = basalt_data[:,3] # SWIR Basalt wt% MgO\n",
    "basalt_lat = basalt_data[:,4] # SWIR Basalt lat\n",
    "basalt_long = basalt_data[:,5] # SWIR Basalt long\n",
    "glob_mag_fO2 = global_data[:,0] # Global MORB, magmatic fO2, T=1200C P=1atm\n",
    "glob_Fe3 = global_data[:,1] # Global MORB, Fe3+/tFe\n",
    "glob_MgO = global_data[:,2] # Global MORB, MgO\n",
    "glob_prim_fO2PT = global_prim[:,0] # Global MORB, primitive samples with olivine added in, projected to PT\n",
    "glob_prim_fO2mag = global_prim[:,1] # Global MORB, primitive samples, magmatic fO2\n",
    "perid_fO2 = perid_data[:,0] # SWIR peridotite, T=~900C P=0.6Gpa\n",
    "perid_fO2_BWPT = perid_data[:,1] # SWIR peridotite, T=1151C P=1Gpa\n",
    "perid_T = perid_data[:,3] # SWIR peridotite temps, from Li\n",
    "perid_fO2_ab = perid_data[:,4] # SWIR peridotite fO2, NOT relative to QFM\n",
    "perid_lat = perid_data[:,7] # SWIR peridotite lat\n",
    "perid_long = perid_data[:,8] # SWIR peridotite long\n",
    "\n",
    "BW_olopx = BW_data[BW_data[:,3]==1,:]\n",
    "BW_paper = BW_olopx[:,0] # Bryndzia and Wood, 1990, data as in paper\n",
    "BW_theirPT = BW_olopx[:,1] # Bryndzia and Wood, 1990, data using Davis method with their P,T\n",
    "BW_ourPT = BW_olopx[:,2] # Bryndzia and Wood, 1990, data using Davis method with our P,T\n"
   ]
  },
  {
   "cell_type": "code",
   "execution_count": 81,
   "metadata": {
    "collapsed": false
   },
   "outputs": [
    {
     "data": {
      "image/png": "[encoded data removed]",
      "text/plain": [
       "<matplotlib.figure.Figure at 0x11d205ba8>"
      ]
     },
     "metadata": {},
     "output_type": "display_data"
    }
   ],
   "source": [
    "fig = plt.figure()\n",
    "fig.set_size_inches(8, 3)\n",
    "\n",
    "axes0 = fig.add_axes([0.05, 0.1, 0.4, 0.8]) # left, bottom, width, height (range 0 to 1)\n",
    "axes1 = fig.add_axes([0.55, 0.1, 0.2, 0.8]) # left, bottom, width, height (range 0 to 1)\n",
    "axes2 = fig.add_axes([0.75, 0.1, 0.2, 0.8]) # left, bottom, width, height (range 0 to 1)\n",
    "\n",
    "#axes = fig.add_axes([0.1, 0.1, 0.8, 0.8]) # left, bottom, width, height (range 0 to 1)\n",
    "#fig, axes = plt.subplots(nrows=1, ncols=4,figsize=(12,3))\n",
    "\n",
    "binwidth = 0.15\n",
    "\n",
    "axes0.plot(basalt_long, magmatic_fO2, 'ok')\n",
    "axes0.plot([11, 11],[-2,2], '--k')\n",
    "axes0.plot([11+35/60, 11+35/60],[-2,2], '--k')\n",
    "axes0.plot([14+15/60, 14+15/60],[-2,2], '--k')\n",
    "axes0.plot([14+54/60, 14+54/60],[-2,2], '--k')\n",
    "axes0.set_title(\"Basalts: Magmatic $f_{O2}$\", fontsize=10)\n",
    "axes0.set_xlim([10, 16])\n",
    "axes0.set_ylim([-2, 2])\n",
    "axes0.set_xticks([10, 11, 12, 13, 14, 15, 16])\n",
    "axes0.set_xticklabels([10, 11, 12, 13, 14, 15, 16], fontsize=10)\n",
    "axes0.set_yticks([-2,-1,0,1,2])\n",
    "axes0.set_yticklabels(['-2','-1','0','+1','+2'], fontsize=10)\n",
    "axes0.set_ylabel('log($f_{O2}$), $\\Delta$QFM', fontsize=10)\n",
    "axes0.set_xlabel('Longitude', fontsize=10)\n",
    "#axes0.legend(fontsize=8)\n",
    "\n",
    "axes1.plot(np.linspace(0,50,10), np.linspace(np.mean(glob_mag_fO2),np.mean(glob_mag_fO2),10), '--', \n",
    "           zorder=0, color='gray')\n",
    "axes1.hist(glob_mag_fO2, bins=np.arange(-2.5, 2, binwidth), orientation='horizontal',\n",
    "          color='silver', label='global MORB') \n",
    "axes1.plot(np.linspace(0,50,10), np.linspace(np.mean(magmatic_fO2),np.mean(magmatic_fO2),10), '--', color='black')\n",
    "axes1.hist(magmatic_fO2, bins=np.arange(-2.5, 2, binwidth), orientation='horizontal',\n",
    "          color='black', label='SWIR MORB') \n",
    "axes1.set_title(\"Magmatic $f_{O2}$\", fontsize=10)\n",
    "axes1.set_xlim([0, 50])\n",
    "axes1.set_ylim([-2, 2])\n",
    "axes1.set_xticks([0,10,20,30,40,50])\n",
    "axes1.set_xticklabels([0,10,20,30,40], fontsize=10)\n",
    "axes1.set_yticks([-2,-1,0,1,2])\n",
    "axes1.set_yticklabels(['-2','-1','0','+1','+2'], fontsize=10)\n",
    "axes1.set_ylabel('log($f_{O2}$), $\\Delta$QFM', fontsize=10)\n",
    "axes1.legend(fontsize=8)\n",
    "axes1.set_xlabel('N', fontsize=10)\n",
    "\n",
    "axes2.plot(np.linspace(0,50,10), np.linspace(np.mean(glob_prim_fO2PT),np.mean(glob_prim_fO2PT),10), '--', \n",
    "           color='gray', zorder=0)\n",
    "axes2.hist(glob_prim_fO2PT, bins=np.arange(-2.5, 2, binwidth), orientation='horizontal',\n",
    "          color='silver', label='global \\nprimitive \\nMORB')  # plt.hist passes it's arguments to np.histogram\n",
    "axes2.set_title(\"Source $f_{O2}$ @P and T\", fontsize=10)\n",
    "axes2.set_xlim([0, 50])\n",
    "axes2.set_ylim([-2, 2])\n",
    "axes2.set_xticks([0,10,20,30,40,50])\n",
    "axes2.set_xticklabels([0,10,20,30,40,50], fontsize=10)\n",
    "axes2.set_yticks([-2,-1,0,1,2])\n",
    "axes2.set_yticklabels([], fontsize=10)\n",
    "axes2.legend(fontsize=8)\n",
    "axes2.set_xlabel('N', fontsize=10)\n",
    "\n",
    "plt.savefig(\"basalt_hist.eps\", format=\"eps\")\n",
    "plt.show()\n"
   ]
  },
  {
   "cell_type": "code",
   "execution_count": null,
   "metadata": {
    "collapsed": false
   },
   "outputs": [],
   "source": [
    "fig = plt.figure()\n",
    "fig.set_size_inches(8, 3)\n",
    "\n",
    "axes0 = fig.add_axes([0.05, 0.1, 0.4, 0.8]) # left, bottom, width, height (range 0 to 1)\n",
    "axes1 = fig.add_axes([0.55, 0.1, 0.2, 0.8]) # left, bottom, width, height (range 0 to 1)\n",
    "axes2 = fig.add_axes([0.75, 0.1, 0.2, 0.8]) # left, bottom, width, height (range 0 to 1)\n",
    "\n",
    "axes0.plot(perid_long, perid_fO2, 'o', color='darkgreen')\n",
    "axes0.plot([11, 11],[-2,2], '--k')\n",
    "axes0.plot([11+35/60, 11+35/60],[-2,2], '--k')\n",
    "axes0.plot([14+15/60, 14+15/60],[-2,2], '--k')\n",
    "axes0.plot([14+54/60, 14+54/60],[-2,2], '--k')\n",
    "axes0.set_title(\"Peridotites: $f_{O2}$ @ ~900C and 0.6GPa\", fontsize=10)\n",
    "axes0.set_xlim([10, 16])\n",
    "axes0.set_ylim([-2, 2])\n",
    "axes0.set_xticks([10, 11, 12, 13, 14, 15, 16])\n",
    "axes0.set_xticklabels([10, 11, 12, 13, 14, 15, 16], fontsize=10)\n",
    "axes0.set_yticks([-2,-1,0,1,2])\n",
    "axes0.set_yticklabels(['-2','-1','0','+1','+2'], fontsize=10)\n",
    "axes0.set_ylabel('log($f_{O2}$), $\\Delta$QFM', fontsize=10)\n",
    "axes0.set_xlabel('Longitude', fontsize=10)\n",
    "\n",
    "binwidth = 0.15\n",
    "\n",
    "#axes2.plot(np.linspace(0,50,10), np.linspace(0,0,10), 'k')\n",
    "axes2.plot(np.linspace(0,50,10), np.linspace(np.mean(BW_ourPT),np.mean(BW_ourPT),10), '--',color='limegreen')\n",
    "axes2.hist(BW_ourPT, bins=np.arange(-2.5, 2, binwidth), orientation='horizontal', color='limegreen')  # plt.hist passes it's arguments to np.histogram\n",
    "axes2.set_title(\"BW1990 $f_{O2}$, \\nrecalculated\", fontsize=10)\n",
    "axes2.set_xlim([0, 12])\n",
    "axes2.set_ylim([-2, 2])\n",
    "axes2.yaxis.set_ticklabels([])\n",
    "axes2.set_xticks([0,2,4,6,8,10,12])\n",
    "axes2.set_xticklabels([0,2,4,6,8,10], fontsize=10)\n",
    "axes2.set_yticks([-2,-1,0,1,2])\n",
    "axes2.set_yticklabels([-2,-1,0,1,2], fontsize=10)\n",
    "axes2.set_yticklabels(['-2','-1','0','+1','+2'], fontsize=10)\n",
    "axes2.set_ylabel('log($f_{O2}$), $\\Delta$QFM', fontsize=10)\n",
    "axes2.set_xlabel('N', fontsize=10)\n",
    "\n",
    "#axes3.plot(np.linspace(0,50,10), np.linspace(0,0,10), 'k')\n",
    "axes1.plot(np.linspace(0,50,10), np.linspace(np.mean(perid_fO2),np.mean(perid_fO2),10), '--',color='darkgreen')\n",
    "axes1.hist(perid_fO2, np.arange(-2.5, 2, binwidth), orientation='horizontal', color='darkgreen')  # plt.hist passes it's arguments to np.histogram\n",
    "axes1.set_title(\"SWIR $f_{O2}$\", fontsize=10)\n",
    "axes1.set_xlim([0, 12])\n",
    "axes1.set_ylim([-2, 2])\n",
    "axes1.set_xticks([0,2,4,6,8,10,12])\n",
    "axes1.set_xticklabels([0,2,4,6,8,10,12], fontsize=10)\n",
    "axes1.set_yticks([-2,-1,0,1,2])\n",
    "axes1.set_yticklabels([])\n",
    "axes1.set_xlabel('N', fontsize=10)\n",
    "\n",
    "plt.savefig(\"perid_hist.eps\", format=\"eps\")\n",
    "plt.show()"
   ]
  },
  {
   "cell_type": "code",
   "execution_count": 54,
   "metadata": {
    "collapsed": false
   },
   "outputs": [
    {
     "data": {
      "image/png": "[encoded data removed]",
      "text/plain": [
       "<matplotlib.figure.Figure at 0x11bc31668>"
      ]
     },
     "metadata": {},
     "output_type": "display_data"
    }
   ],
   "source": [
    "fig = plt.figure()\n",
    "fig.set_size_inches(18.5, 5)\n",
    "\n",
    "axes0 = fig.add_axes([0.05, 0.1, 0.2, 0.8]) # left, bottom, width, height (range 0 to 1)\n",
    "axes1 = fig.add_axes([0.3, 0.1, 0.15, 0.8]) # left, bottom, width, height (range 0 to 1)\n",
    "axes2 = fig.add_axes([0.45, 0.1, 0.15, 0.8]) # left, bottom, width, height (range 0 to 1)\n",
    "axes3 = fig.add_axes([0.65, 0.1, 0.15, 0.8]) # left, bottom, width, height (range 0 to 1)\n",
    "axes4 = fig.add_axes([0.8, 0.1, 0.15, 0.8]) # left, bottom, width, height (range 0 to 1)\n",
    "\n",
    "#axes = fig.add_axes([0.1, 0.1, 0.8, 0.8]) # left, bottom, width, height (range 0 to 1)\n",
    "#fig, axes = plt.subplots(nrows=1, ncols=4,figsize=(12,3))\n",
    "\n",
    "binwidth = 0.15\n",
    "\n",
    "#axes0.plot(np.linspace(0,50,10), np.linspace(0,0,10), 'k')\n",
    "axes0.plot(np.linspace(0,50,10), np.linspace(np.mean(BW_paper),np.mean(BW_paper),10), '--',color='darkgreen')\n",
    "axes0.hist(BW_paper, bins=np.arange(-2.5, 2, binwidth), orientation='horizontal', color='darkgreen')  # plt.hist passes it's arguments to np.histogram\n",
    "axes0.set_title(\"Bryndzia and Wood data, \\nas in their paper\", fontsize=12)\n",
    "axes0.set_xlim([0, 12])\n",
    "axes0.set_ylim([-2.5, 2])\n",
    "axes0.set_xticks([0,2,4,6,8,10,12])\n",
    "axes0.set_xticklabels([0,2,4,6,8,10,12], fontsize=12)\n",
    "axes0.set_yticks([-2,-1,0,1,2])\n",
    "axes0.set_yticklabels([-2,-1,0,1,2], fontsize=12)\n",
    "axes0.set_ylabel(\"log(fO2), dQFM\", fontsize=12)\n",
    "\n",
    "#axes1.plot(np.linspace(0,50,10), np.linspace(0,0,10), 'k')\n",
    "axes1.plot(np.linspace(0,50,10), np.linspace(np.mean(BW_theirPT),np.mean(BW_theirPT),10), '--',color='darkgreen')\n",
    "axes1.hist(BW_theirPT, bins=np.arange(-2.5, 2, binwidth), orientation='horizontal', color='darkgreen')  # plt.hist passes it's arguments to np.histogram\n",
    "axes1.set_title(\"Bryndzia and Wood data, \\nDavis method, BW PT (~1150 C, 1 Gpa)\", fontsize=12)\n",
    "axes1.set_xlim([0, 12])\n",
    "axes1.set_ylim([-2.5, 2])\n",
    "axes1.set_xticks([0,2,4,6,8,10])\n",
    "axes1.set_xticklabels([0,2,4,6,8,10], fontsize=12)\n",
    "axes1.set_yticks([-2,-1,0,1,2])\n",
    "axes1.set_yticklabels([-2,-1,0,1,2], fontsize=12)\n",
    "\n",
    "axes2.plot(np.linspace(0,50,10), np.linspace(np.mean(perid_fO2_BWPT),np.mean(perid_fO2_BWPT),10), '--',color='limegreen')\n",
    "axes2.hist(perid_fO2_BWPT, bins=np.arange(-2.5, 2, binwidth), orientation='horizontal', color='limegreen')  # plt.hist passes it's arguments to np.histogram\n",
    "axes2.set_title(\"SWIR data, \\n1151 C, 1 GPa\", fontsize=12)\n",
    "axes2.set_xlim([0, 12])\n",
    "axes2.set_ylim([-2.5, 2])\n",
    "axes2.yaxis.set_ticklabels([])\n",
    "axes2.set_xticks([0,2,4,6,8,10,12])\n",
    "axes2.set_xticklabels([0,2,4,6,8,10], fontsize=12)\n",
    "axes2.set_yticks([-2,-1,0,1,2])\n",
    "axes2.set_yticklabels([])\n",
    "\n",
    "\n",
    "#axes2.plot(np.linspace(0,50,10), np.linspace(0,0,10), 'k')\n",
    "axes3.plot(np.linspace(0,50,10), np.linspace(np.mean(BW_ourPT),np.mean(BW_ourPT),10), '--',color='darkgreen')\n",
    "axes3.hist(BW_ourPT, bins=np.arange(-2.5, 2, binwidth), orientation='horizontal', color='darkgreen')  # plt.hist passes it's arguments to np.histogram\n",
    "axes3.set_title(\"Bryndzia and Wood data, \\nDavis method, Li PT (~950 C, 0.6 GPa)\", fontsize=12)\n",
    "axes3.set_xlim([0, 12])\n",
    "axes3.set_ylim([-2.5, 2])\n",
    "axes3.yaxis.set_ticklabels([])\n",
    "axes3.set_xticks([0,2,4,6,8,10,12])\n",
    "axes3.set_xticklabels([0,2,4,6,8,10], fontsize=12)\n",
    "axes3.set_yticks([-2,-1,0,1,2])\n",
    "axes3.set_yticklabels([-2,-1,0,1,2], fontsize=12)\n",
    "\n",
    "#axes3.plot(np.linspace(0,50,10), np.linspace(0,0,10), 'k')\n",
    "axes4.plot(np.linspace(0,50,10), np.linspace(np.mean(perid_fO2),np.mean(perid_fO2),10), '--',color='limegreen')\n",
    "axes4.hist(perid_fO2, np.arange(-2.5, 2, binwidth), orientation='horizontal', color='limegreen')  # plt.hist passes it's arguments to np.histogram\n",
    "axes4.set_title(\" SWIR Peridotite fO2 \\nT=~900 C, P=0.6 GPa\", fontsize=12)\n",
    "axes4.set_xlim([0, 12])\n",
    "axes4.set_ylim([-2.5, 2])\n",
    "axes4.set_xticks([0,2,4,6,8,10,12])\n",
    "axes4.set_xticklabels([0,2,4,6,8,10,12], fontsize=12)\n",
    "axes4.set_yticks([-2,-1,0,1,2])\n",
    "axes4.set_yticklabels([])\n",
    "\n",
    "plt.savefig(\"SWIR_perid_hist.eps\", format=\"eps\")\n",
    "plt.show()"
   ]
  },
  {
   "cell_type": "code",
   "execution_count": null,
   "metadata": {
    "collapsed": true
   },
   "outputs": [],
   "source": [
    "x"
   ]
  },
  {
   "cell_type": "code",
   "execution_count": null,
   "metadata": {
    "collapsed": true
   },
   "outputs": [],
   "source": [
    "print(4)"
   ]
  },
  {
   "cell_type": "code",
   "execution_count": null,
   "metadata": {
    "collapsed": true
   },
   "outputs": [],
   "source": []
  }
 ],
 "metadata": {
  "kernelspec": {
   "display_name": "Python 3",
   "language": "python",
   "name": "python3"
  },
  "language_info": {
   "codemirror_mode": {
    "name": "ipython",
    "version": 3
   },
   "file_extension": ".py",
   "mimetype": "text/x-python",
   "name": "python",
   "nbconvert_exporter": "python",
   "pygments_lexer": "ipython3",
   "version": "3.6.0"
  }
 },
 "nbformat": 4,
 "nbformat_minor": 2
}
